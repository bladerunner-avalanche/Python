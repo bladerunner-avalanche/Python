{
 "cells": [
  {
   "cell_type": "code",
   "execution_count": 11,
   "metadata": {
    "collapsed": true
   },
   "outputs": [
    {
     "name": "stderr",
     "output_type": "stream",
     "text": [
      "Exception in Tkinter callback\n",
      "Traceback (most recent call last):\n",
      "  File \"/Library/Developer/CommandLineTools/Library/Frameworks/Python3.framework/Versions/3.9/lib/python3.9/tkinter/__init__.py\", line 1892, in __call__\n",
      "    return self.func(*args)\n",
      "  File \"/var/folders/xs/jrj5545n4vs0yl1484t0mmdc0000gn/T/ipykernel_20223/361789292.py\", line 5, in helloCallBack\n",
      "    top.Message( \"Hello Python\", \"Hello World\")\n",
      "  File \"/Library/Developer/CommandLineTools/Library/Frameworks/Python3.framework/Versions/3.9/lib/python3.9/tkinter/__init__.py\", line 2354, in __getattr__\n",
      "    return getattr(self.tk, attr)\n",
      "AttributeError: '_tkinter.tkapp' object has no attribute 'Message'\n",
      "Exception in Tkinter callback\n",
      "Traceback (most recent call last):\n",
      "  File \"/Library/Developer/CommandLineTools/Library/Frameworks/Python3.framework/Versions/3.9/lib/python3.9/tkinter/__init__.py\", line 1892, in __call__\n",
      "    return self.func(*args)\n",
      "  File \"/var/folders/xs/jrj5545n4vs0yl1484t0mmdc0000gn/T/ipykernel_20223/361789292.py\", line 5, in helloCallBack\n",
      "    top.Message( \"Hello Python\", \"Hello World\")\n",
      "  File \"/Library/Developer/CommandLineTools/Library/Frameworks/Python3.framework/Versions/3.9/lib/python3.9/tkinter/__init__.py\", line 2354, in __getattr__\n",
      "    return getattr(self.tk, attr)\n",
      "AttributeError: '_tkinter.tkapp' object has no attribute 'Message'\n",
      "Exception in Tkinter callback\n",
      "Traceback (most recent call last):\n",
      "  File \"/Library/Developer/CommandLineTools/Library/Frameworks/Python3.framework/Versions/3.9/lib/python3.9/tkinter/__init__.py\", line 1892, in __call__\n",
      "    return self.func(*args)\n",
      "  File \"/var/folders/xs/jrj5545n4vs0yl1484t0mmdc0000gn/T/ipykernel_20223/361789292.py\", line 5, in helloCallBack\n",
      "    top.Message( \"Hello Python\", \"Hello World\")\n",
      "  File \"/Library/Developer/CommandLineTools/Library/Frameworks/Python3.framework/Versions/3.9/lib/python3.9/tkinter/__init__.py\", line 2354, in __getattr__\n",
      "    return getattr(self.tk, attr)\n",
      "AttributeError: '_tkinter.tkapp' object has no attribute 'Message'\n",
      "Exception in Tkinter callback\n",
      "Traceback (most recent call last):\n",
      "  File \"/Library/Developer/CommandLineTools/Library/Frameworks/Python3.framework/Versions/3.9/lib/python3.9/tkinter/__init__.py\", line 1892, in __call__\n",
      "    return self.func(*args)\n",
      "  File \"/var/folders/xs/jrj5545n4vs0yl1484t0mmdc0000gn/T/ipykernel_20223/361789292.py\", line 5, in helloCallBack\n",
      "    top.Message( \"Hello Python\", \"Hello World\")\n",
      "  File \"/Library/Developer/CommandLineTools/Library/Frameworks/Python3.framework/Versions/3.9/lib/python3.9/tkinter/__init__.py\", line 2354, in __getattr__\n",
      "    return getattr(self.tk, attr)\n",
      "AttributeError: '_tkinter.tkapp' object has no attribute 'Message'\n"
     ]
    }
   ],
   "source": [
    "import tkinter\n",
    "top = tkinter.Tk()\n",
    "\n",
    "def helloCallBack():\n",
    "   top.Message( \"Hello Python\", \"Hello World\")\n",
    "\n",
    "B = tkinter.Button(top, text =\"Hello\", command = helloCallBack)\n",
    "\n",
    "B.pack()\n",
    "top.mainloop()"
   ]
  },
  {
   "cell_type": "code",
   "execution_count": null,
   "outputs": [],
   "source": [],
   "metadata": {
    "collapsed": false
   }
  }
 ],
 "metadata": {
  "kernelspec": {
   "display_name": "Python 3",
   "language": "python",
   "name": "python3"
  },
  "language_info": {
   "codemirror_mode": {
    "name": "ipython",
    "version": 2
   },
   "file_extension": ".py",
   "mimetype": "text/x-python",
   "name": "python",
   "nbconvert_exporter": "python",
   "pygments_lexer": "ipython2",
   "version": "2.7.6"
  }
 },
 "nbformat": 4,
 "nbformat_minor": 0
}
